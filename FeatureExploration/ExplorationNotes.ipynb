{
 "cells": [
  {
   "cell_type": "code",
   "execution_count": 15,
   "outputs": [],
   "source": [
    "import pandas as pd\n",
    "from services.plots import plots\n",
    "from services.reports import reports\n",
    "import seaborn as sns\n",
    "import matplotlib.pyplot as plt  # plotting\n",
    "from sklearn.preprocessing import LabelEncoder\n",
    "\n",
    "DATASET_SIZE = 100\n",
    "DEBUG = False\n"
   ],
   "metadata": {
    "collapsed": false,
    "pycharm": {
     "name": "#%%\n",
     "is_executing": false
    }
   }
  },
  {
   "cell_type": "code",
   "execution_count": 16,
   "metadata": {
    "collapsed": true,
    "pycharm": {
     "is_executing": false
    }
   },
   "outputs": [],
   "source": [
    "dataset = pd.read_csv('../Data/findata.csv')\n",
    "X = dataset.iloc[:, :-1].values\n",
    "Y = dataset.iloc[:, 9]\n"
   ]
  },
  {
   "cell_type": "code",
   "execution_count": 17,
   "outputs": [
    {
     "data": {
      "text/plain": "   step       customer  age gender zipcodeOri       merchant zipMerchant  \\\n0     0  'C1093826151'  '4'    'M'    '28007'   'M348934600'     '28007'   \n1     0   'C352968107'  '2'    'M'    '28007'   'M348934600'     '28007'   \n2     0  'C2054744914'  '4'    'F'    '28007'  'M1823072687'     '28007'   \n3     0  'C1760612790'  '3'    'M'    '28007'   'M348934600'     '28007'   \n4     0   'C757503768'  '5'    'M'    '28007'   'M348934600'     '28007'   \n5     0  'C1315400589'  '3'    'F'    '28007'   'M348934600'     '28007'   \n6     0   'C765155274'  '1'    'F'    '28007'   'M348934600'     '28007'   \n7     0   'C202531238'  '4'    'F'    '28007'   'M348934600'     '28007'   \n8     0   'C105845174'  '3'    'M'    '28007'   'M348934600'     '28007'   \n9     0    'C39858251'  '5'    'F'    '28007'   'M348934600'     '28007'   \n\n              category  amount  fraud  \n0  'es_transportation'    4.55      0  \n1  'es_transportation'   39.68      0  \n2  'es_transportation'   26.89      0  \n3  'es_transportation'   17.25      0  \n4  'es_transportation'   35.72      0  \n5  'es_transportation'   25.81      0  \n6  'es_transportation'    9.10      0  \n7  'es_transportation'   21.17      0  \n8  'es_transportation'   32.40      0  \n9  'es_transportation'   35.40      0  ",
      "text/html": "<div>\n<style scoped>\n    .dataframe tbody tr th:only-of-type {\n        vertical-align: middle;\n    }\n\n    .dataframe tbody tr th {\n        vertical-align: top;\n    }\n\n    .dataframe thead th {\n        text-align: right;\n    }\n</style>\n<table border=\"1\" class=\"dataframe\">\n  <thead>\n    <tr style=\"text-align: right;\">\n      <th></th>\n      <th>step</th>\n      <th>customer</th>\n      <th>age</th>\n      <th>gender</th>\n      <th>zipcodeOri</th>\n      <th>merchant</th>\n      <th>zipMerchant</th>\n      <th>category</th>\n      <th>amount</th>\n      <th>fraud</th>\n    </tr>\n  </thead>\n  <tbody>\n    <tr>\n      <td>0</td>\n      <td>0</td>\n      <td>'C1093826151'</td>\n      <td>'4'</td>\n      <td>'M'</td>\n      <td>'28007'</td>\n      <td>'M348934600'</td>\n      <td>'28007'</td>\n      <td>'es_transportation'</td>\n      <td>4.55</td>\n      <td>0</td>\n    </tr>\n    <tr>\n      <td>1</td>\n      <td>0</td>\n      <td>'C352968107'</td>\n      <td>'2'</td>\n      <td>'M'</td>\n      <td>'28007'</td>\n      <td>'M348934600'</td>\n      <td>'28007'</td>\n      <td>'es_transportation'</td>\n      <td>39.68</td>\n      <td>0</td>\n    </tr>\n    <tr>\n      <td>2</td>\n      <td>0</td>\n      <td>'C2054744914'</td>\n      <td>'4'</td>\n      <td>'F'</td>\n      <td>'28007'</td>\n      <td>'M1823072687'</td>\n      <td>'28007'</td>\n      <td>'es_transportation'</td>\n      <td>26.89</td>\n      <td>0</td>\n    </tr>\n    <tr>\n      <td>3</td>\n      <td>0</td>\n      <td>'C1760612790'</td>\n      <td>'3'</td>\n      <td>'M'</td>\n      <td>'28007'</td>\n      <td>'M348934600'</td>\n      <td>'28007'</td>\n      <td>'es_transportation'</td>\n      <td>17.25</td>\n      <td>0</td>\n    </tr>\n    <tr>\n      <td>4</td>\n      <td>0</td>\n      <td>'C757503768'</td>\n      <td>'5'</td>\n      <td>'M'</td>\n      <td>'28007'</td>\n      <td>'M348934600'</td>\n      <td>'28007'</td>\n      <td>'es_transportation'</td>\n      <td>35.72</td>\n      <td>0</td>\n    </tr>\n    <tr>\n      <td>5</td>\n      <td>0</td>\n      <td>'C1315400589'</td>\n      <td>'3'</td>\n      <td>'F'</td>\n      <td>'28007'</td>\n      <td>'M348934600'</td>\n      <td>'28007'</td>\n      <td>'es_transportation'</td>\n      <td>25.81</td>\n      <td>0</td>\n    </tr>\n    <tr>\n      <td>6</td>\n      <td>0</td>\n      <td>'C765155274'</td>\n      <td>'1'</td>\n      <td>'F'</td>\n      <td>'28007'</td>\n      <td>'M348934600'</td>\n      <td>'28007'</td>\n      <td>'es_transportation'</td>\n      <td>9.10</td>\n      <td>0</td>\n    </tr>\n    <tr>\n      <td>7</td>\n      <td>0</td>\n      <td>'C202531238'</td>\n      <td>'4'</td>\n      <td>'F'</td>\n      <td>'28007'</td>\n      <td>'M348934600'</td>\n      <td>'28007'</td>\n      <td>'es_transportation'</td>\n      <td>21.17</td>\n      <td>0</td>\n    </tr>\n    <tr>\n      <td>8</td>\n      <td>0</td>\n      <td>'C105845174'</td>\n      <td>'3'</td>\n      <td>'M'</td>\n      <td>'28007'</td>\n      <td>'M348934600'</td>\n      <td>'28007'</td>\n      <td>'es_transportation'</td>\n      <td>32.40</td>\n      <td>0</td>\n    </tr>\n    <tr>\n      <td>9</td>\n      <td>0</td>\n      <td>'C39858251'</td>\n      <td>'5'</td>\n      <td>'F'</td>\n      <td>'28007'</td>\n      <td>'M348934600'</td>\n      <td>'28007'</td>\n      <td>'es_transportation'</td>\n      <td>35.40</td>\n      <td>0</td>\n    </tr>\n  </tbody>\n</table>\n</div>"
     },
     "metadata": {},
     "output_type": "execute_result",
     "execution_count": 17
    }
   ],
   "source": [
    "\n",
    "dataset.head(10)\n"
   ],
   "metadata": {
    "collapsed": false,
    "pycharm": {
     "name": "#%%\n",
     "is_executing": false
    }
   }
  },
  {
   "cell_type": "code",
   "execution_count": 18,
   "outputs": [
    {
     "name": "stdout",
     "text": [
      "Instance count  594643\nAttribute count  10\n"
     ],
     "output_type": "stream"
    }
   ],
   "source": [
    "print('Instance count ', dataset.shape[0])\n",
    "print('Attribute count ', dataset.shape[1])"
   ],
   "metadata": {
    "collapsed": false,
    "pycharm": {
     "name": "#%%\n",
     "is_executing": false
    }
   }
  },
  {
   "cell_type": "code",
   "execution_count": 19,
   "outputs": [
    {
     "data": {
      "text/plain": "            Parameter Nature # of Unique Entries  \\\nstep                 Feature                 180   \ncustomer             Feature                4112   \nage                  Feature                   8   \ngender               Feature                   4   \nzipcodeOri           Feature                   1   \nmerchant             Feature                  50   \nzipMerchant          Feature                   1   \ncategory             Feature                  15   \namount               Feature               23767   \nfraud                 Target                   2   \n\n                           Sample Entries (First three values)  \nstep                                                   0, 1, 2  \ncustomer            'C1093826151', 'C352968107', 'C2054744914'  \nage                                              '4', '2', '3'  \ngender                                           'M', 'F', 'E'  \nzipcodeOri                                             '28007'  \nmerchant              'M348934600', 'M1823072687', 'M50039827'  \nzipMerchant                                            '28007'  \ncategory     'es_transportation', 'es_health', 'es_otherser...  \namount                                      4.55, 39.68, 26.89  \nfraud                                                     0, 1  ",
      "text/html": "<div>\n<style scoped>\n    .dataframe tbody tr th:only-of-type {\n        vertical-align: middle;\n    }\n\n    .dataframe tbody tr th {\n        vertical-align: top;\n    }\n\n    .dataframe thead th {\n        text-align: right;\n    }\n</style>\n<table border=\"1\" class=\"dataframe\">\n  <thead>\n    <tr style=\"text-align: right;\">\n      <th></th>\n      <th>Parameter Nature</th>\n      <th># of Unique Entries</th>\n      <th>Sample Entries (First three values)</th>\n    </tr>\n  </thead>\n  <tbody>\n    <tr>\n      <td>step</td>\n      <td>Feature</td>\n      <td>180</td>\n      <td>0, 1, 2</td>\n    </tr>\n    <tr>\n      <td>customer</td>\n      <td>Feature</td>\n      <td>4112</td>\n      <td>'C1093826151', 'C352968107', 'C2054744914'</td>\n    </tr>\n    <tr>\n      <td>age</td>\n      <td>Feature</td>\n      <td>8</td>\n      <td>'4', '2', '3'</td>\n    </tr>\n    <tr>\n      <td>gender</td>\n      <td>Feature</td>\n      <td>4</td>\n      <td>'M', 'F', 'E'</td>\n    </tr>\n    <tr>\n      <td>zipcodeOri</td>\n      <td>Feature</td>\n      <td>1</td>\n      <td>'28007'</td>\n    </tr>\n    <tr>\n      <td>merchant</td>\n      <td>Feature</td>\n      <td>50</td>\n      <td>'M348934600', 'M1823072687', 'M50039827'</td>\n    </tr>\n    <tr>\n      <td>zipMerchant</td>\n      <td>Feature</td>\n      <td>1</td>\n      <td>'28007'</td>\n    </tr>\n    <tr>\n      <td>category</td>\n      <td>Feature</td>\n      <td>15</td>\n      <td>'es_transportation', 'es_health', 'es_otherser...</td>\n    </tr>\n    <tr>\n      <td>amount</td>\n      <td>Feature</td>\n      <td>23767</td>\n      <td>4.55, 39.68, 26.89</td>\n    </tr>\n    <tr>\n      <td>fraud</td>\n      <td>Target</td>\n      <td>2</td>\n      <td>0, 1</td>\n    </tr>\n  </tbody>\n</table>\n</div>"
     },
     "metadata": {},
     "output_type": "execute_result",
     "execution_count": 19
    }
   ],
   "source": [
    "\n",
    "reports.parameterOverview(dataset, 'fraud')"
   ],
   "metadata": {
    "collapsed": false,
    "pycharm": {
     "name": "#%%\n",
     "is_executing": false
    }
   }
  },
  {
   "cell_type": "code",
   "execution_count": 20,
   "outputs": [
    {
     "data": {
      "text/plain": "                step         amount          fraud\ncount  594643.000000  594643.000000  594643.000000\nmean       94.986827      37.890135       0.012108\nstd        51.053632     111.402831       0.109369\nmin         0.000000       0.000000       0.000000\n25%        52.000000      13.740000       0.000000\n50%        97.000000      26.900000       0.000000\n75%       139.000000      42.540000       0.000000\nmax       179.000000    8329.960000       1.000000",
      "text/html": "<div>\n<style scoped>\n    .dataframe tbody tr th:only-of-type {\n        vertical-align: middle;\n    }\n\n    .dataframe tbody tr th {\n        vertical-align: top;\n    }\n\n    .dataframe thead th {\n        text-align: right;\n    }\n</style>\n<table border=\"1\" class=\"dataframe\">\n  <thead>\n    <tr style=\"text-align: right;\">\n      <th></th>\n      <th>step</th>\n      <th>amount</th>\n      <th>fraud</th>\n    </tr>\n  </thead>\n  <tbody>\n    <tr>\n      <td>count</td>\n      <td>594643.000000</td>\n      <td>594643.000000</td>\n      <td>594643.000000</td>\n    </tr>\n    <tr>\n      <td>mean</td>\n      <td>94.986827</td>\n      <td>37.890135</td>\n      <td>0.012108</td>\n    </tr>\n    <tr>\n      <td>std</td>\n      <td>51.053632</td>\n      <td>111.402831</td>\n      <td>0.109369</td>\n    </tr>\n    <tr>\n      <td>min</td>\n      <td>0.000000</td>\n      <td>0.000000</td>\n      <td>0.000000</td>\n    </tr>\n    <tr>\n      <td>25%</td>\n      <td>52.000000</td>\n      <td>13.740000</td>\n      <td>0.000000</td>\n    </tr>\n    <tr>\n      <td>50%</td>\n      <td>97.000000</td>\n      <td>26.900000</td>\n      <td>0.000000</td>\n    </tr>\n    <tr>\n      <td>75%</td>\n      <td>139.000000</td>\n      <td>42.540000</td>\n      <td>0.000000</td>\n    </tr>\n    <tr>\n      <td>max</td>\n      <td>179.000000</td>\n      <td>8329.960000</td>\n      <td>1.000000</td>\n    </tr>\n  </tbody>\n</table>\n</div>"
     },
     "metadata": {},
     "output_type": "execute_result",
     "execution_count": 20
    }
   ],
   "source": [
    "\n",
    "dataset.describe()\n"
   ],
   "metadata": {
    "collapsed": false,
    "pycharm": {
     "name": "#%%\n",
     "is_executing": false
    }
   }
  },
  {
   "cell_type": "code",
   "execution_count": 21,
   "outputs": [],
   "source": [
    "\n",
    "label_set = dataset\n",
    "\n"
   ],
   "metadata": {
    "collapsed": false,
    "pycharm": {
     "name": "#%%\n",
     "is_executing": false
    }
   }
  },
  {
   "cell_type": "code",
   "execution_count": 22,
   "outputs": [],
   "source": [
    "\n",
    "label_set['customer'] = label_set['customer'].replace('\\'','', regex=True)\n",
    "label_set['age'] = label_set['age'].replace('\\'','', regex=True)\n",
    "label_set['gender'] = label_set['gender'].replace('\\'','', regex=True)\n",
    "label_set['merchant'] = label_set['merchant'].replace('\\'','', regex=True)\n",
    "label_set['category'] = label_set['category'].replace('\\'','', regex=True)\n",
    "\n",
    "\n"
   ],
   "metadata": {
    "collapsed": false,
    "pycharm": {
     "name": "#%%\n",
     "is_executing": false
    }
   }
  },
  {
   "cell_type": "code",
   "execution_count": 23,
   "outputs": [],
   "source": [
    "\n",
    "label_set = label_set.drop(['zipcodeOri', 'zipMerchant'], axis=1)\n"
   ],
   "metadata": {
    "collapsed": false,
    "pycharm": {
     "name": "#%%     \n",
     "is_executing": false
    }
   }
  },
  {
   "cell_type": "code",
   "execution_count": 24,
   "outputs": [],
   "source": [
    "\n",
    "dataset = label_set\n"
   ],
   "metadata": {
    "collapsed": false,
    "pycharm": {
     "name": "#%%\n",
     "is_executing": false
    }
   }
  },
  {
   "cell_type": "code",
   "execution_count": 25,
   "outputs": [],
   "source": [
    "label_encoder = LabelEncoder()      \n",
    "dataset['gender'] = label_encoder.fit_transform(dataset['gender']) \n",
    "dataset['merchant'] = label_encoder.fit_transform(dataset['merchant'])\n",
    "dataset['category'] = label_encoder.fit_transform(dataset['category'])\n",
    "dataset['customer'] = label_encoder.fit_transform(dataset['customer'])\n",
    "dataset['age'] = label_encoder.fit_transform(dataset['age'])\n",
    "\n",
    "      "
   ],
   "metadata": {
    "collapsed": false,
    "pycharm": {
     "name": "#%%\n",
     "is_executing": false
    }
   }
  },
  {
   "cell_type": "code",
   "execution_count": 26,
   "outputs": [
    {
     "data": {
      "text/plain": "         Parameter Nature # of Unique Entries  \\\nstep              Feature                 180   \ncustomer          Feature                4112   \nage               Feature                   8   \ngender            Feature                   4   \nmerchant          Feature                  50   \ncategory          Feature                  15   \namount            Feature               23767   \nfraud              Target                   2   \n\n         Sample Entries (First three values)  \nstep                                 0, 1, 2  \ncustomer                     210, 2753, 2285  \nage                                  4, 2, 3  \ngender                               2, 1, 0  \nmerchant                          30, 18, 36  \ncategory                            12, 4, 9  \namount                    4.55, 39.68, 26.89  \nfraud                                   0, 1  ",
      "text/html": "<div>\n<style scoped>\n    .dataframe tbody tr th:only-of-type {\n        vertical-align: middle;\n    }\n\n    .dataframe tbody tr th {\n        vertical-align: top;\n    }\n\n    .dataframe thead th {\n        text-align: right;\n    }\n</style>\n<table border=\"1\" class=\"dataframe\">\n  <thead>\n    <tr style=\"text-align: right;\">\n      <th></th>\n      <th>Parameter Nature</th>\n      <th># of Unique Entries</th>\n      <th>Sample Entries (First three values)</th>\n    </tr>\n  </thead>\n  <tbody>\n    <tr>\n      <td>step</td>\n      <td>Feature</td>\n      <td>180</td>\n      <td>0, 1, 2</td>\n    </tr>\n    <tr>\n      <td>customer</td>\n      <td>Feature</td>\n      <td>4112</td>\n      <td>210, 2753, 2285</td>\n    </tr>\n    <tr>\n      <td>age</td>\n      <td>Feature</td>\n      <td>8</td>\n      <td>4, 2, 3</td>\n    </tr>\n    <tr>\n      <td>gender</td>\n      <td>Feature</td>\n      <td>4</td>\n      <td>2, 1, 0</td>\n    </tr>\n    <tr>\n      <td>merchant</td>\n      <td>Feature</td>\n      <td>50</td>\n      <td>30, 18, 36</td>\n    </tr>\n    <tr>\n      <td>category</td>\n      <td>Feature</td>\n      <td>15</td>\n      <td>12, 4, 9</td>\n    </tr>\n    <tr>\n      <td>amount</td>\n      <td>Feature</td>\n      <td>23767</td>\n      <td>4.55, 39.68, 26.89</td>\n    </tr>\n    <tr>\n      <td>fraud</td>\n      <td>Target</td>\n      <td>2</td>\n      <td>0, 1</td>\n    </tr>\n  </tbody>\n</table>\n</div>"
     },
     "metadata": {},
     "output_type": "execute_result",
     "execution_count": 26
    }
   ],
   "source": [
    "\n",
    "\n",
    "reports.parameterOverview(dataset, 'fraud')\n"
   ],
   "metadata": {
    "collapsed": false,
    "pycharm": {
     "name": "#%%\n",
     "is_executing": false
    }
   }
  },
  {
   "cell_type": "code",
   "execution_count": 27,
   "outputs": [],
   "source": [
    "\n",
    "for index in range(len(dataset['age'])):\n",
    "    if dataset['age'][index] == 'U':\n",
    "        dataset['age'][index] = 7\n",
    "\n"
   ],
   "metadata": {
    "collapsed": false,
    "pycharm": {
     "name": "#%%      \n",
     "is_executing": false
    }
   }
  },
  {
   "cell_type": "code",
   "execution_count": 32,
   "outputs": [
    {
     "data": {
      "text/plain": "<Figure size 432x288 with 1 Axes>",
      "image/png": "[encoded data removed]"
     },
     "metadata": {
      "needs_background": "light"
     },
     "output_type": "display_data"
    }
   ],
   "source": [
    "\n",
    "sns.boxplot(x=\"fraud\", y=\"amount\", data=dataset)\n",
    "plt.show()\n",
    "\n"
   ],
   "metadata": {
    "collapsed": false,
    "pycharm": {
     "name": "#%%\n",
     "is_executing": false
    }
   }
  },
  {
   "cell_type": "code",
   "execution_count": 33,
   "outputs": [
    {
     "name": "stdout",
     "text": [
      "No Frauds 98.79 % of the dataset\nFrauds 1.21 % of the dataset\n"
     ],
     "output_type": "stream"
    }
   ],
   "source": [
    "\n",
    "print('No Frauds', round(dataset['fraud'].value_counts()[0]/len(dataset) * 100,2), '% of the dataset')\n",
    "print('Frauds', round(dataset['fraud'].value_counts()[1]/len(dataset) * 100,2), '% of the dataset')\n"
   ],
   "metadata": {
    "collapsed": false,
    "pycharm": {
     "name": "#%%\n",
     "is_executing": false
    }
   }
  },
  {
   "cell_type": "code",
   "execution_count": 34,
   "outputs": [
    {
     "data": {
      "text/plain": "<Figure size 1296x288 with 2 Axes>",
      "image/png": "[encoded data removed]"
     },
     "metadata": {
      "needs_background": "light"
     },
     "output_type": "display_data"
    }
   ],
   "source": [
    "\n",
    "fig, ax = plt.subplots(1, 2, figsize=(18,4))\n",
    "\n",
    "amount_val = dataset['amount'].values\n",
    "\n",
    "sns.distplot(amount_val, ax=ax[0], color='r')\n",
    "ax[0].set_title('Distribution of Transaction Amount', fontsize=14)\n",
    "ax[0].set_xlim([min(amount_val), max(amount_val)])\n",
    "plt.show()\n",
    "\n",
    "\n",
    "    \n"
   ],
   "metadata": {
    "collapsed": false,
    "pycharm": {
     "name": "#%%\n",
     "is_executing": false
    }
   }
  },
  {
   "cell_type": "code",
   "execution_count": 56,
   "outputs": [],
   "source": [
    "SAFE_RATIO = 0.5\n",
    "\n",
    "fraud_df = dataset.loc[dataset['fraud'] == 1]\n",
    "\n",
    "safe_amount = int((len(fraud_df)*2)*SAFE_RATIO)\n",
    "\n",
    "safe_df = dataset.loc[dataset['fraud'] == 0][:safe_amount]\n"
   ],
   "metadata": {
    "collapsed": false,
    "pycharm": {
     "name": "#%%\n",
     "is_executing": false
    }
   }
  },
  {
   "cell_type": "markdown",
   "source": [
    "\n",
    "Fraud & Non Fraud info\n"
   ],
   "metadata": {
    "collapsed": false,
    "pycharm": {
     "name": "#%% md\n"
    }
   }
  },
  {
   "cell_type": "code",
   "execution_count": 57,
   "outputs": [
    {
     "data": {
      "text/plain": "7200"
     },
     "metadata": {},
     "output_type": "execute_result",
     "execution_count": 57
    }
   ],
   "source": [
    "\n",
    "len(fraud_df)\n"
   ],
   "metadata": {
    "collapsed": false,
    "pycharm": {
     "name": "#%%\n",
     "is_executing": false
    }
   }
  },
  {
   "cell_type": "code",
   "execution_count": 58,
   "outputs": [
    {
     "data": {
      "text/plain": "7200"
     },
     "metadata": {},
     "output_type": "execute_result",
     "execution_count": 58
    }
   ],
   "source": [
    "\n",
    "len(safe_df)\n"
   ],
   "metadata": {
    "collapsed": false,
    "pycharm": {
     "name": "#%%\n",
     "is_executing": false
    }
   }
  },
  {
   "cell_type": "code",
   "execution_count": 58,
   "outputs": [],
   "source": [
    "\n",
    "\n"
   ],
   "metadata": {
    "collapsed": false,
    "pycharm": {
     "name": "#%%\n",
     "is_executing": false
    }
   }
  },
  {
   "cell_type": "code",
   "execution_count": 59,
   "outputs": [],
   "source": [
    "\n",
    "norm_distri_df = pd.concat([fraud_df, safe_df])\n",
    "dataframe = norm_distri_df.sample(frac=1, random_state=42)\n",
    "\n",
    "if DEBUG:\n",
    "    dataframe = dataframe.loc[:100,:]\n"
   ],
   "metadata": {
    "collapsed": false,
    "pycharm": {
     "name": "#%%\n",
     "is_executing": false
    }
   }
  },
  {
   "cell_type": "code",
   "execution_count": 60,
   "outputs": [
    {
     "data": {
      "text/plain": "<Figure size 432x288 with 1 Axes>",
      "image/png": "[encoded data removed]"
     },
     "metadata": {
      "needs_background": "light"
     },
     "output_type": "display_data"
    }
   ],
   "source": [
    "sns.countplot('fraud', data=dataframe)\n",
    "plt.title('Equally Distributed Classes', fontsize=14)\n",
    "plt.show()\n"
   ],
   "metadata": {
    "collapsed": false,
    "pycharm": {
     "name": "#%%\n",
     "is_executing": false
    }
   }
  },
  {
   "cell_type": "code",
   "execution_count": 61,
   "outputs": [
    {
     "data": {
      "text/plain": "14400"
     },
     "metadata": {},
     "output_type": "execute_result",
     "execution_count": 61
    }
   ],
   "source": [
    "len(dataframe)\n"
   ],
   "metadata": {
    "collapsed": false,
    "pycharm": {
     "name": "#%%\n",
     "is_executing": false
    }
   }
  },
  {
   "cell_type": "code",
   "execution_count": 41,
   "outputs": [
    {
     "data": {
      "text/plain": "<matplotlib.axes._subplots.AxesSubplot at 0x134f719d0>"
     },
     "metadata": {},
     "output_type": "execute_result",
     "execution_count": 41
    },
    {
     "data": {
      "text/plain": "<Figure size 432x288 with 2 Axes>",
      "image/png": "[encoded data removed]"
     },
     "metadata": {
      "needs_background": "light"
     },
     "output_type": "display_data"
    }
   ],
   "source": [
    "\n",
    "sub_sample_corr = dataframe.corr()\n",
    "sns.heatmap(sub_sample_corr, cmap='coolwarm_r', annot_kws={'size': 20})\n",
    "#ax2.set_title('SubSample Correlation Matrix \\n (use for reference)', fontsize=14)\n"
   ],
   "metadata": {
    "collapsed": false,
    "pycharm": {
     "name": "#%%\n",
     "is_executing": false
    }
   }
  },
  {
   "cell_type": "code",
   "execution_count": 64,
   "outputs": [
    {
     "data": {
      "text/plain": "<Figure size 432x288 with 1 Axes>",
      "image/png": "[encoded data removed]"
     },
     "metadata": {
      "needs_background": "light"
     },
     "output_type": "display_data"
    }
   ],
   "source": [
    "\n",
    "\n",
    "sns.boxplot(x=\"fraud\", y=\"age\", data=dataframe)\n",
    "plt.show()\n"
   ],
   "metadata": {
    "collapsed": false,
    "pycharm": {
     "name": "#%%\n",
     "is_executing": false
    }
   }
  },
  {
   "cell_type": "markdown",
   "source": [
    "\n",
    "Outlier removal with interquartile range \n"
   ],
   "metadata": {
    "collapsed": false,
    "pycharm": {
     "name": "#%% md\n"
    }
   }
  },
  {
   "cell_type": "code",
   "execution_count": null,
   "outputs": [],
   "source": [
    "\n",
    "sns.boxplot(x=\"Class\", y=\"V11\", data=new_df, palette=colors, ax=axes[0])\n",
    "axes[0].set_title('V11 vs Class Positive Correlation')\n"
   ],
   "metadata": {
    "collapsed": false,
    "pycharm": {
     "name": "#%%\n"
    }
   }
  },
  {
   "cell_type": "code",
   "execution_count": null,
   "outputs": [],
   "source": [
    "\n",
    "\n",
    "\n"
   ],
   "metadata": {
    "collapsed": false,
    "pycharm": {
     "name": "#%%\n"
    }
   }
  }
 ],
 "metadata": {
  "language_info": {
   "codemirror_mode": {
    "name": "ipython",
    "version": 2
   },
   "file_extension": ".py",
   "mimetype": "text/x-python",
   "name": "python",
   "nbconvert_exporter": "python",
   "pygments_lexer": "ipython2",
   "version": "2.7.6"
  },
  "kernelspec": {
   "name": "python3",
   "language": "python",
   "display_name": "Python 3"
  },
  "pycharm": {
   "stem_cell": {
    "cell_type": "raw",
    "source": [],
    "metadata": {
     "collapsed": false
    }
   }
  }
 },
 "nbformat": 4,
 "nbformat_minor": 0
}